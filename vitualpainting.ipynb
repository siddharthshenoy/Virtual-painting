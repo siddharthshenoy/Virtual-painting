{
  "nbformat": 4,
  "nbformat_minor": 0,
  "metadata": {
    "colab": {
      "name": "vitualpainting.ipynb",
      "provenance": [],
      "authorship_tag": "ABX9TyP9VzBSLjrHc13FAyFRcJK9",
      "include_colab_link": true
    },
    "kernelspec": {
      "name": "python3",
      "display_name": "Python 3"
    },
    "language_info": {
      "name": "python"
    }
  },
  "cells": [
    {
      "cell_type": "markdown",
      "metadata": {
        "id": "view-in-github",
        "colab_type": "text"
      },
      "source": [
        "<a href=\"https://colab.research.google.com/github/siddharthshenoy/Virtual-painting/blob/main/vitualpainting.ipynb\" target=\"_parent\"><img src=\"https://colab.research.google.com/assets/colab-badge.svg\" alt=\"Open In Colab\"/></a>"
      ]
    },
    {
      "cell_type": "code",
      "metadata": {
        "id": "_TV3s8bR6j30"
      },
      "source": [
        "import cv2\n",
        "import numpy as np"
      ],
      "execution_count": 1,
      "outputs": []
    },
    {
      "cell_type": "code",
      "metadata": {
        "id": "oF1wQDgT6qiR"
      },
      "source": [
        "frameWidth = 640\n",
        "frameHeight = 480\n",
        "cap = cv2.VideoCapture(0)"
      ],
      "execution_count": 6,
      "outputs": []
    },
    {
      "cell_type": "code",
      "metadata": {
        "colab": {
          "base_uri": "https://localhost:8080/"
        },
        "id": "1I8JClKw66uS",
        "outputId": "97438afb-9d86-4a42-8933-505d566d31d7"
      },
      "source": [
        "cap.set(3, frameWidth)\n",
        "cap.set(4, frameHeight)\n",
        "cap.set(10,150)"
      ],
      "execution_count": 8,
      "outputs": [
        {
          "output_type": "execute_result",
          "data": {
            "text/plain": [
              "False"
            ]
          },
          "metadata": {
            "tags": []
          },
          "execution_count": 8
        }
      ]
    },
    {
      "cell_type": "code",
      "metadata": {
        "id": "lj_izdF57LU1"
      },
      "source": [
        "myColors = [[5,107,0,19,255,255],\n",
        "            [133,56,0,159,156,255],\n",
        "            [57,76,0,100,255,255],\n",
        "            [90,48,0,118,255,255]]\n",
        "myColorValues = [[51,153,255],          ## BGR\n",
        "                 [255,0,255],\n",
        "                 [0,255,0],\n",
        "                 [255,0,0]]"
      ],
      "execution_count": 10,
      "outputs": []
    },
    {
      "cell_type": "code",
      "metadata": {
        "id": "PgMavULM80Bz"
      },
      "source": [
        ""
      ],
      "execution_count": null,
      "outputs": []
    }
  ]
}