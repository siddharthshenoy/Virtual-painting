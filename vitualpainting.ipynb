{
  "nbformat": 4,
  "nbformat_minor": 0,
  "metadata": {
    "colab": {
      "name": "vitualpainting.ipynb",
      "provenance": [],
      "authorship_tag": "ABX9TyP0ui4hFtiEa+/xA48vmHR+",
      "include_colab_link": true
    },
    "kernelspec": {
      "name": "python3",
      "display_name": "Python 3"
    },
    "language_info": {
      "name": "python"
    }
  },
  "cells": [
    {
      "cell_type": "markdown",
      "metadata": {
        "id": "view-in-github",
        "colab_type": "text"
      },
      "source": [
        "<a href=\"https://colab.research.google.com/github/siddharthshenoy/Virtual-painting/blob/main/vitualpainting.ipynb\" target=\"_parent\"><img src=\"https://colab.research.google.com/assets/colab-badge.svg\" alt=\"Open In Colab\"/></a>"
      ]
    },
    {
      "cell_type": "code",
      "metadata": {
        "id": "_TV3s8bR6j30"
      },
      "source": [
        "import cv2\n",
        "import numpy as np"
      ],
      "execution_count": 27,
      "outputs": []
    },
    {
      "cell_type": "code",
      "metadata": {
        "id": "oF1wQDgT6qiR"
      },
      "source": [
        "frameWidth = 640\n",
        "frameHeight = 480\n",
        "cap = cv2.VideoCapture(0)"
      ],
      "execution_count": 28,
      "outputs": []
    },
    {
      "cell_type": "code",
      "metadata": {
        "colab": {
          "base_uri": "https://localhost:8080/"
        },
        "id": "1I8JClKw66uS",
        "outputId": "43343545-a1c5-4386-9a04-15d0c3cfc793"
      },
      "source": [
        "cap.set(3, frameWidth)\n",
        "cap.set(4, frameHeight)\n",
        "cap.set(10,150)"
      ],
      "execution_count": 29,
      "outputs": [
        {
          "output_type": "execute_result",
          "data": {
            "text/plain": [
              "False"
            ]
          },
          "metadata": {
            "tags": []
          },
          "execution_count": 29
        }
      ]
    },
    {
      "cell_type": "code",
      "metadata": {
        "id": "lj_izdF57LU1"
      },
      "source": [
        "myColors = [[5,107,0,19,255,255],\n",
        "            [133,56,0,159,156,255],\n",
        "            [57,76,0,100,255,255],\n",
        "            [90,48,0,118,255,255]]\n",
        "myColorValues = [[51,153,255],          ## BGR\n",
        "                 [255,0,255],\n",
        "                 [0,255,0],\n",
        "                 [255,0,0]]"
      ],
      "execution_count": 30,
      "outputs": []
    },
    {
      "cell_type": "code",
      "metadata": {
        "id": "PgMavULM80Bz"
      },
      "source": [
        "myPoints =  []  ## [x , y , colorId ]\n"
      ],
      "execution_count": 31,
      "outputs": []
    },
    {
      "cell_type": "code",
      "metadata": {
        "id": "-EDS6LItKfLy"
      },
      "source": [
        "def findColor(img,myColors,myColorValues):\n",
        "    imgHSV = cv2.cvtColor(img, cv2.COLOR_BGR2HSV)\n",
        "    count = 0\n",
        "    newPoints=[]\n",
        "    for color in myColors:\n",
        "        lower = np.array(color[0:3])\n",
        "        upper = np.array(color[3:6])\n",
        "        mask = cv2.inRange(imgHSV,lower,upper)\n",
        "        x,y=getContours(mask)\n",
        "        cv2.circle(imgResult,(x,y),15,myColorValues[count],cv2.FILLED)\n",
        "        if x!=0 and y!=0:\n",
        "            newPoints.append([x,y,count])\n",
        "        count +=1\n",
        "        #cv2.imshow(str(color[0]),mask)\n",
        "    return newPoints"
      ],
      "execution_count": 32,
      "outputs": []
    },
    {
      "cell_type": "code",
      "metadata": {
        "id": "jkm0LB3bKjbi"
      },
      "source": [
        "def getContours(img):\n",
        "    contours,hierarchy = cv2.findContours(img,cv2.RETR_EXTERNAL,cv2.CHAIN_APPROX_NONE)\n",
        "    x,y,w,h = 0,0,0,0\n",
        "    for cnt in contours:\n",
        "        area = cv2.contourArea(cnt)\n",
        "        if area>500:\n",
        "            #cv2.drawContours(imgResult, cnt, -1, (255, 0, 0), 3)\n",
        "            peri = cv2.arcLength(cnt,True)\n",
        "            approx = cv2.approxPolyDP(cnt,0.02*peri,True)\n",
        "            x, y, w, h = cv2.boundingRect(approx)\n",
        "    return x+w//2,y"
      ],
      "execution_count": 33,
      "outputs": []
    },
    {
      "cell_type": "code",
      "metadata": {
        "id": "253SFQ_AKlWY"
      },
      "source": [
        "def drawOnCanvas(myPoints,myColorValues):\n",
        "    for point in myPoints:\n",
        "        cv2.circle(imgResult, (point[0], point[1]), 10, myColorValues[point[2]], cv2.FILLED)"
      ],
      "execution_count": 34,
      "outputs": []
    },
    {
      "cell_type": "code",
      "metadata": {
        "id": "F8-_rcnJKncR"
      },
      "source": [
        "\n",
        "while True:\n",
        "    success, img = cap.read()\n",
        "    if img is None:\n",
        "        break\n",
        "    imgResult = img.copy()\n",
        "    newPoints = findColor(img, myColors,myColorValues)\n",
        "    if len(newPoints)!=0:\n",
        "        for newP in newPoints:\n",
        "            myPoints.append(newP)\n",
        "    if len(myPoints)!=0:\n",
        "        drawOnCanvas(myPoints,myColorValues)\n",
        "\n",
        "\n",
        "    cv2.imshow(\"Result\", imgResult)\n",
        "    if cv2.waitKey(1) & 0xFF == ord('q'):\n",
        "        break"
      ],
      "execution_count": 35,
      "outputs": []
    },
    {
      "cell_type": "code",
      "metadata": {
        "id": "5jbj5OcbL2sX"
      },
      "source": [
        ""
      ],
      "execution_count": 35,
      "outputs": []
    }
  ]
}